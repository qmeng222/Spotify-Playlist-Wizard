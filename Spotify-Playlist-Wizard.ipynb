{
 "cells": [
  {
   "cell_type": "code",
   "execution_count": 47,
   "id": "3cbbe9b5",
   "metadata": {},
   "outputs": [],
   "source": [
    "import openai"
   ]
  },
  {
   "cell_type": "code",
   "execution_count": 54,
   "id": "56d7022e",
   "metadata": {},
   "outputs": [],
   "source": [
    "import json"
   ]
  },
  {
   "cell_type": "code",
   "execution_count": 49,
   "id": "1669438f",
   "metadata": {},
   "outputs": [],
   "source": [
    "from dotenv import dotenv_values"
   ]
  },
  {
   "cell_type": "code",
   "execution_count": 50,
   "id": "126ad6b0",
   "metadata": {},
   "outputs": [],
   "source": [
    "config = dotenv_values(\".env\")"
   ]
  },
  {
   "cell_type": "code",
   "execution_count": 51,
   "id": "bf42658a",
   "metadata": {},
   "outputs": [],
   "source": [
    "openai.api_key = config[\"OPENAI_API_KEY\"]"
   ]
  },
  {
   "cell_type": "code",
   "execution_count": 65,
   "id": "0144f2f7",
   "metadata": {},
   "outputs": [],
   "source": [
    "def get_playlist(prompt, count=8):\n",
    "    example_json = \"\"\"\n",
    "    [\n",
    "     {\"song\": \"The Dance\", \"artist\": \"Garth Brooks\"},\n",
    "     {\"song\": \"Friends In Low Places\", \"artist\": \"Garth Brooks\"},\n",
    "     {\"song\": \"Humble And Kind\", \"artist\": \"Tim McGraw\"},\n",
    "     {\"song\": \"Take Your Time\", \"artist\": \"Sam Hunt\"},\n",
    "     {\"song\": \"Tennessee Whiskey\", \"artist\": \"Chris Stapleton\"}\n",
    "    ]\n",
    "    \"\"\"\n",
    "\n",
    "    messages = [\n",
    "        {\"role\": \"system\", \"content\": \"\"\"You are a helpful playlist generating assistant.\n",
    "        You should generate a list of songs and their artists according to a text prompt. \n",
    "        You should return a JSON array with each element follows this format: {\"song\": <song_title>, \"artist\": <artist_name>}\n",
    "        \"\"\"}, \n",
    "        {\"role\": \"user\", \"content\": \"Generate a playlist of 5 songs based on this prompt: country music\"}, \n",
    "        {\"role\": \"assistant\", \"content\": example_json},\n",
    "        {\"role\": \"user\", \"content\": f\"Generate a playlist of {count} songs based on this prompt: {prompt}\"}, \n",
    "\n",
    "    ]\n",
    "\n",
    "    response = openai.ChatCompletion.create(\n",
    "        model=\"gpt-3.5-turbo\", \n",
    "        messages=messages, \n",
    "        max_tokens=200\n",
    "    )\n",
    "    \n",
    "    playlist = json.loads(response.choices[0].message.content) \n",
    "    print(playlist)"
   ]
  },
  {
   "cell_type": "code",
   "execution_count": 66,
   "id": "12578d68",
   "metadata": {},
   "outputs": [
    {
     "name": "stdout",
     "output_type": "stream",
     "text": [
      "[{'song': 'I Heard It Through the Grapevine', 'artist': 'Marvin Gaye'}, {'song': \"(Sittin' On) The Dock of the Bay\", 'artist': 'Otis Redding'}, {'song': 'A Change Is Gonna Come', 'artist': 'Sam Cooke'}, {'song': \"I'll Be There\", 'artist': 'The Jackson 5'}]\n"
     ]
    }
   ],
   "source": [
    "get_playlist(\"rhythm and blues\", 4)"
   ]
  },
  {
   "cell_type": "code",
   "execution_count": null,
   "id": "aa90e8c7",
   "metadata": {},
   "outputs": [],
   "source": []
  }
 ],
 "metadata": {
  "kernelspec": {
   "display_name": "Python 3 (ipykernel)",
   "language": "python",
   "name": "python3"
  },
  "language_info": {
   "codemirror_mode": {
    "name": "ipython",
    "version": 3
   },
   "file_extension": ".py",
   "mimetype": "text/x-python",
   "name": "python",
   "nbconvert_exporter": "python",
   "pygments_lexer": "ipython3",
   "version": "3.10.2"
  }
 },
 "nbformat": 4,
 "nbformat_minor": 5
}
