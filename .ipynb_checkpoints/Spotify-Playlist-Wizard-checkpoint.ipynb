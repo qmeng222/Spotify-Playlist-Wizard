{
 "cells": [
  {
   "cell_type": "code",
   "execution_count": 1,
   "id": "50fdb1e0",
   "metadata": {},
   "outputs": [
    {
     "name": "stdout",
     "output_type": "stream",
     "text": [
      "Requirement already satisfied: openai in /Users/qingyingmeng/.pyenv/versions/3.10.2/lib/python3.10/site-packages (0.27.7)\n",
      "Requirement already satisfied: requests>=2.20 in /Users/qingyingmeng/.pyenv/versions/3.10.2/lib/python3.10/site-packages (from openai) (2.28.1)\n",
      "Requirement already satisfied: tqdm in /Users/qingyingmeng/.pyenv/versions/3.10.2/lib/python3.10/site-packages (from openai) (4.65.0)\n",
      "Requirement already satisfied: aiohttp in /Users/qingyingmeng/.pyenv/versions/3.10.2/lib/python3.10/site-packages (from openai) (3.8.4)\n",
      "Requirement already satisfied: charset-normalizer<3,>=2 in /Users/qingyingmeng/.pyenv/versions/3.10.2/lib/python3.10/site-packages (from requests>=2.20->openai) (2.1.0)\n",
      "Requirement already satisfied: idna<4,>=2.5 in /Users/qingyingmeng/.pyenv/versions/3.10.2/lib/python3.10/site-packages (from requests>=2.20->openai) (3.3)\n",
      "Requirement already satisfied: urllib3<1.27,>=1.21.1 in /Users/qingyingmeng/.pyenv/versions/3.10.2/lib/python3.10/site-packages (from requests>=2.20->openai) (1.26.11)\n",
      "Requirement already satisfied: certifi>=2017.4.17 in /Users/qingyingmeng/.pyenv/versions/3.10.2/lib/python3.10/site-packages (from requests>=2.20->openai) (2022.6.15)\n",
      "Requirement already satisfied: attrs>=17.3.0 in /Users/qingyingmeng/.pyenv/versions/3.10.2/lib/python3.10/site-packages (from aiohttp->openai) (21.4.0)\n",
      "Requirement already satisfied: multidict<7.0,>=4.5 in /Users/qingyingmeng/.pyenv/versions/3.10.2/lib/python3.10/site-packages (from aiohttp->openai) (6.0.4)\n",
      "Requirement already satisfied: async-timeout<5.0,>=4.0.0a3 in /Users/qingyingmeng/.pyenv/versions/3.10.2/lib/python3.10/site-packages (from aiohttp->openai) (4.0.2)\n",
      "Requirement already satisfied: yarl<2.0,>=1.0 in /Users/qingyingmeng/.pyenv/versions/3.10.2/lib/python3.10/site-packages (from aiohttp->openai) (1.9.2)\n",
      "Requirement already satisfied: frozenlist>=1.1.1 in /Users/qingyingmeng/.pyenv/versions/3.10.2/lib/python3.10/site-packages (from aiohttp->openai) (1.3.3)\n",
      "Requirement already satisfied: aiosignal>=1.1.2 in /Users/qingyingmeng/.pyenv/versions/3.10.2/lib/python3.10/site-packages (from aiohttp->openai) (1.3.1)\n",
      "Note: you may need to restart the kernel to use updated packages.\n"
     ]
    }
   ],
   "source": [
    "pip install openai"
   ]
  },
  {
   "cell_type": "code",
   "execution_count": 2,
   "id": "3cbbe9b5",
   "metadata": {},
   "outputs": [],
   "source": [
    "import openai"
   ]
  },
  {
   "cell_type": "code",
   "execution_count": 3,
   "id": "56d7022e",
   "metadata": {},
   "outputs": [],
   "source": [
    "import json"
   ]
  },
  {
   "cell_type": "code",
   "execution_count": 4,
   "id": "1669438f",
   "metadata": {},
   "outputs": [
    {
     "ename": "ModuleNotFoundError",
     "evalue": "No module named 'dotenv'",
     "output_type": "error",
     "traceback": [
      "\u001b[0;31m---------------------------------------------------------------------------\u001b[0m",
      "\u001b[0;31mModuleNotFoundError\u001b[0m                       Traceback (most recent call last)",
      "Input \u001b[0;32mIn [4]\u001b[0m, in \u001b[0;36m<cell line: 1>\u001b[0;34m()\u001b[0m\n\u001b[0;32m----> 1\u001b[0m \u001b[38;5;28;01mfrom\u001b[39;00m \u001b[38;5;21;01mdotenv\u001b[39;00m \u001b[38;5;28;01mimport\u001b[39;00m dotenv_values\n",
      "\u001b[0;31mModuleNotFoundError\u001b[0m: No module named 'dotenv'"
     ]
    }
   ],
   "source": [
    "from dotenv import dotenv_values"
   ]
  },
  {
   "cell_type": "code",
   "execution_count": null,
   "id": "126ad6b0",
   "metadata": {},
   "outputs": [],
   "source": [
    "config = dotenv_values(\".env\")"
   ]
  },
  {
   "cell_type": "code",
   "execution_count": null,
   "id": "bf42658a",
   "metadata": {},
   "outputs": [],
   "source": [
    "openai.api_key = config[\"OPENAI_API_KEY\"]"
   ]
  },
  {
   "cell_type": "code",
   "execution_count": null,
   "id": "0144f2f7",
   "metadata": {},
   "outputs": [],
   "source": [
    "def get_playlist(prompt, count=8):\n",
    "    example_json = \"\"\"\n",
    "    [\n",
    "     {\"song\": \"The Dance\", \"artist\": \"Garth Brooks\"},\n",
    "     {\"song\": \"Friends In Low Places\", \"artist\": \"Garth Brooks\"},\n",
    "     {\"song\": \"Humble And Kind\", \"artist\": \"Tim McGraw\"},\n",
    "     {\"song\": \"Take Your Time\", \"artist\": \"Sam Hunt\"},\n",
    "     {\"song\": \"Tennessee Whiskey\", \"artist\": \"Chris Stapleton\"}\n",
    "    ]\n",
    "    \"\"\"\n",
    "\n",
    "    messages = [\n",
    "        {\"role\": \"system\", \"content\": \"\"\"You are a helpful playlist generating assistant.\n",
    "        You should generate a list of songs and their artists according to a text prompt. \n",
    "        You should return a JSON array with each element follows this format: {\"song\": <song_title>, \"artist\": <artist_name>}\n",
    "        \"\"\"}, \n",
    "        {\"role\": \"user\", \"content\": \"Generate a playlist of 5 songs based on this prompt: country music\"}, \n",
    "        {\"role\": \"assistant\", \"content\": example_json},\n",
    "        {\"role\": \"user\", \"content\": f\"Generate a playlist of {count} songs based on this prompt: {prompt}\"}, \n",
    "\n",
    "    ]\n",
    "\n",
    "    response = openai.ChatCompletion.create(\n",
    "        model=\"gpt-3.5-turbo\", \n",
    "        messages=messages, \n",
    "        max_tokens=200\n",
    "    )\n",
    "    \n",
    "    playlist = json.loads(response.choices[0].message.content) \n",
    "    print(playlist)"
   ]
  },
  {
   "cell_type": "code",
   "execution_count": null,
   "id": "12578d68",
   "metadata": {},
   "outputs": [],
   "source": [
    "get_playlist(\"rhythm and blues\", 4)"
   ]
  },
  {
   "cell_type": "code",
   "execution_count": null,
   "id": "aa90e8c7",
   "metadata": {},
   "outputs": [],
   "source": []
  }
 ],
 "metadata": {
  "kernelspec": {
   "display_name": "Python 3 (ipykernel)",
   "language": "python",
   "name": "python3"
  },
  "language_info": {
   "codemirror_mode": {
    "name": "ipython",
    "version": 3
   },
   "file_extension": ".py",
   "mimetype": "text/x-python",
   "name": "python",
   "nbconvert_exporter": "python",
   "pygments_lexer": "ipython3",
   "version": "3.10.2"
  }
 },
 "nbformat": 4,
 "nbformat_minor": 5
}
